{
  "nbformat": 4,
  "nbformat_minor": 0,
  "metadata": {
    "colab": {
      "name": "LocationBasedAssignment.ipynb",
      "provenance": [],
      "include_colab_link": true
    },
    "kernelspec": {
      "name": "python3",
      "display_name": "Python 3"
    }
  },
  "cells": [
    {
      "cell_type": "markdown",
      "metadata": {
        "id": "view-in-github",
        "colab_type": "text"
      },
      "source": [
        "<a href=\"https://colab.research.google.com/github/smerner/cs146/blob/master/LocationBasedAssignment.ipynb\" target=\"_parent\"><img src=\"https://colab.research.google.com/assets/colab-badge.svg\" alt=\"Open In Colab\"/></a>"
      ]
    },
    {
      "cell_type": "code",
      "metadata": {
        "id": "QlDzNR7ixNT8",
        "colab_type": "code",
        "outputId": "40f8f975-cc5a-4e37-d01d-f6b4b98ca538",
        "colab": {
          "resources": {
            "http://localhost:8080/nbextensions/google.colab/files.js": {
              "data": "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",
              "ok": true,
              "headers": [
                [
                  "content-type",
                  "application/javascript"
                ]
              ],
              "status": 200,
              "status_text": ""
            }
          },
          "base_uri": "https://localhost:8080/",
          "height": 70
        }
      },
      "source": [
        "import matplotlib.pylab as plt\n",
        "%matplotlib inline\n",
        "import numpy as np\n",
        "import pystan\n",
        "from scipy.stats import cauchy, gamma, norm, expon, uniform\n",
        "import pandas as pd\n",
        "\n",
        "# loading data \n",
        "from google.colab import files\n",
        "uploaded = files.upload() "
      ],
      "execution_count": 0,
      "outputs": [
        {
          "output_type": "display_data",
          "data": {
            "text/html": [
              "\n",
              "     <input type=\"file\" id=\"files-3b02a5c9-4134-4c6f-8315-ed15586a0ccd\" name=\"files[]\" multiple disabled />\n",
              "     <output id=\"result-3b02a5c9-4134-4c6f-8315-ed15586a0ccd\">\n",
              "      Upload widget is only available when the cell has been executed in the\n",
              "      current browser session. Please rerun this cell to enable.\n",
              "      </output>\n",
              "      <script src=\"/nbextensions/google.colab/files.js\"></script> "
            ],
            "text/plain": [
              "<IPython.core.display.HTML object>"
            ]
          },
          "metadata": {
            "tags": []
          }
        },
        {
          "output_type": "stream",
          "text": [
            "Saving lba_data.csv to lba_data (1).csv\n"
          ],
          "name": "stdout"
        }
      ]
    },
    {
      "cell_type": "code",
      "metadata": {
        "id": "aGxrizd1xVbX",
        "colab_type": "code",
        "outputId": "d4970537-9175-4b54-c8ac-bc4e8cc6e684",
        "colab": {
          "base_uri": "https://localhost:8080/",
          "height": 245
        }
      },
      "source": [
        "# creating a Pandas DataFrame \n",
        "file_handler = open(\"lba_data.csv\", \"r\") \n",
        "grocery_data = pd.read_csv(file_handler, sep = \",\") \n",
        "file_handler.close() \n",
        "\n",
        "# creating a dict file \n",
        "Store = {'ALDI': 1,'EDEKA': 2, 'Lidl': 3, 'REWE': 4, 'Sainsbury': 5,'Tesco': 6,'Waitrose & Partners': 7,}\n",
        "\n",
        "# traversing through data frame \n",
        "# through store column and writing new values where key matches\n",
        "# https://www.geeksforgeeks.org/different-ways-to-iterate-over-rows-in-pandas-dataframe/ \n",
        "grocery_data.Store = [Store[item] for item in grocery_data.Store]\n",
        "\n",
        "#checking if sucessful \n",
        "print(grocery_data)\n"
      ],
      "execution_count": 0,
      "outputs": [
        {
          "output_type": "stream",
          "text": [
            "      Store          Product  ...  Product price (€)    Neighborhood\n",
            "0         3             Eggs  ...               1.89       Kreuzberg\n",
            "1         1             Eggs  ...               1.09     Lichtenberg\n",
            "2         2             Eggs  ...               1.19     Alt-Treptow\n",
            "3         3             Eggs  ...               1.19     Alt-Treptow\n",
            "4         1             Eggs  ...               1.19  Friedrichshain\n",
            "...     ...              ...  ...                ...             ...\n",
            "2372      2  Chicken Breasts  ...              13.25     Alt-Treptow\n",
            "2373      2  Chicken Breasts  ...              30.00      Schöneberg\n",
            "2374      2         Tomatoes  ...               1.99  Friedrichshain\n",
            "2375      2         Tomatoes  ...               1.99       Kreuzberg\n",
            "2376      5          Bananas  ...              75.00          London\n",
            "\n",
            "[2377 rows x 6 columns]\n"
          ],
          "name": "stdout"
        }
      ]
    },
    {
      "cell_type": "code",
      "metadata": {
        "id": "C2qQIdmV2eQx",
        "colab_type": "code",
        "outputId": "2a14af90-03e1-4be1-d07e-098c32255dee",
        "colab": {
          "base_uri": "https://localhost:8080/",
          "height": 245
        }
      },
      "source": [
        "Neighborhood = {'Alt-Treptow': 1, 'Friedrichshain': 2, 'Kreuzberg': 3, 'Lichtenberg': 4, 'London': 5, 'Mitte': 6, 'Neukölln': 7, 'Prenzlauer Berg': 8, 'Schöneberg': 9, 'Tempelhof': 10,}  \n",
        "\n",
        "# traversing through data frame \n",
        "# through store column and writing new values where key matches\n",
        "grocery_data.Neighborhood = [Neighborhood[x] for x in grocery_data.Neighborhood]\n",
        "print(grocery_data)\n"
      ],
      "execution_count": 0,
      "outputs": [
        {
          "output_type": "stream",
          "text": [
            "      Store          Product  ...  Product price (€)  Neighborhood\n",
            "0         3             Eggs  ...               1.89             3\n",
            "1         1             Eggs  ...               1.09             4\n",
            "2         2             Eggs  ...               1.19             1\n",
            "3         3             Eggs  ...               1.19             1\n",
            "4         1             Eggs  ...               1.19             2\n",
            "...     ...              ...  ...                ...           ...\n",
            "2372      2  Chicken Breasts  ...              13.25             1\n",
            "2373      2  Chicken Breasts  ...              30.00             9\n",
            "2374      2         Tomatoes  ...               1.99             2\n",
            "2375      2         Tomatoes  ...               1.99             3\n",
            "2376      5          Bananas  ...              75.00             5\n",
            "\n",
            "[2377 rows x 6 columns]\n"
          ],
          "name": "stdout"
        }
      ]
    },
    {
      "cell_type": "code",
      "metadata": {
        "id": "P_GYVLYV4xvv",
        "colab_type": "code",
        "outputId": "d73a8c47-daaa-48bb-98dd-4a73131cbe1a",
        "colab": {
          "base_uri": "https://localhost:8080/",
          "height": 245
        }
      },
      "source": [
        "# creating dict \n",
        "Product = {'Apples': 1, 'Bananas': 2, 'Butter': 3, 'Chicken Breasts': 4, 'Eggs': 5, 'Milk, full cream ': 6, 'Potatoes': 7, 'Rice, Basmati ': 8, 'Tomatoes': 9, 'White Flour': 10,}  \n",
        "\n",
        "# traversing through data frame \n",
        "# through store column and writing new values where key matches\n",
        "grocery_data.Product = [Product[x] for x in grocery_data.Product]\n",
        "print(grocery_data)"
      ],
      "execution_count": 0,
      "outputs": [
        {
          "output_type": "stream",
          "text": [
            "      Store  Product  ...  Product price (€)  Neighborhood\n",
            "0         3        5  ...               1.89             3\n",
            "1         1        5  ...               1.09             4\n",
            "2         2        5  ...               1.19             1\n",
            "3         3        5  ...               1.19             1\n",
            "4         1        5  ...               1.19             2\n",
            "...     ...      ...  ...                ...           ...\n",
            "2372      2        4  ...              13.25             1\n",
            "2373      2        4  ...              30.00             9\n",
            "2374      2        9  ...               1.99             2\n",
            "2375      2        9  ...               1.99             3\n",
            "2376      5        2  ...              75.00             5\n",
            "\n",
            "[2377 rows x 6 columns]\n"
          ],
          "name": "stdout"
        }
      ]
    },
    {
      "cell_type": "code",
      "metadata": {
        "id": "WMWBOiTUGO35",
        "colab_type": "code",
        "outputId": "882f8018-3868-465a-a999-333a1836af64",
        "colab": {
          "base_uri": "https://localhost:8080/",
          "height": 133
        }
      },
      "source": [
        "# increasing index by 1 for ease in pystan since it indexes from 1 not 0 \n",
        "grocery_data.index += 1\n",
        "# checking if sucessful \n",
        "grocery_data.head(3)"
      ],
      "execution_count": 0,
      "outputs": [
        {
          "output_type": "execute_result",
          "data": {
            "text/html": [
              "<div>\n",
              "<style scoped>\n",
              "    .dataframe tbody tr th:only-of-type {\n",
              "        vertical-align: middle;\n",
              "    }\n",
              "\n",
              "    .dataframe tbody tr th {\n",
              "        vertical-align: top;\n",
              "    }\n",
              "\n",
              "    .dataframe thead th {\n",
              "        text-align: right;\n",
              "    }\n",
              "</style>\n",
              "<table border=\"1\" class=\"dataframe\">\n",
              "  <thead>\n",
              "    <tr style=\"text-align: right;\">\n",
              "      <th></th>\n",
              "      <th>Store</th>\n",
              "      <th>Product</th>\n",
              "      <th>Price per unit</th>\n",
              "      <th>Product quantity (kg)</th>\n",
              "      <th>Product price (€)</th>\n",
              "      <th>Neighborhood</th>\n",
              "    </tr>\n",
              "  </thead>\n",
              "  <tbody>\n",
              "    <tr>\n",
              "      <th>1</th>\n",
              "      <td>3</td>\n",
              "      <td>5</td>\n",
              "      <td>0.105</td>\n",
              "      <td>18.0</td>\n",
              "      <td>1.89</td>\n",
              "      <td>3</td>\n",
              "    </tr>\n",
              "    <tr>\n",
              "      <th>2</th>\n",
              "      <td>1</td>\n",
              "      <td>5</td>\n",
              "      <td>0.109</td>\n",
              "      <td>10.0</td>\n",
              "      <td>1.09</td>\n",
              "      <td>4</td>\n",
              "    </tr>\n",
              "    <tr>\n",
              "      <th>3</th>\n",
              "      <td>2</td>\n",
              "      <td>5</td>\n",
              "      <td>0.119</td>\n",
              "      <td>10.0</td>\n",
              "      <td>1.19</td>\n",
              "      <td>1</td>\n",
              "    </tr>\n",
              "  </tbody>\n",
              "</table>\n",
              "</div>"
            ],
            "text/plain": [
              "   Store  Product  ...  Product price (€)  Neighborhood\n",
              "1      3        5  ...               1.89             3\n",
              "2      1        5  ...               1.09             4\n",
              "3      2        5  ...               1.19             1\n",
              "\n",
              "[3 rows x 6 columns]"
            ]
          },
          "metadata": {
            "tags": []
          },
          "execution_count": 12
        }
      ]
    },
    {
      "cell_type": "code",
      "metadata": {
        "id": "SsB1LQGiQSU_",
        "colab_type": "code",
        "colab": {}
      },
      "source": [
        ""
      ],
      "execution_count": 0,
      "outputs": []
    },
    {
      "cell_type": "code",
      "metadata": {
        "id": "y83StEHfjwae",
        "colab_type": "code",
        "outputId": "c4d02172-0c6c-4e9a-a3b6-296394d1ce93",
        "colab": {
          "base_uri": "https://localhost:8080/",
          "height": 33
        }
      },
      "source": [
        "stan_code = '''\n",
        "\n",
        "data {\n",
        "\n",
        "// Data Block: data block contains all known quantities \n",
        "\n",
        "    int<lower=1> num;             // shows the number of observations\n",
        "    int<lower=1> P;             // specified the number of products\n",
        "    int<lower=1> S;             // specifies the number of stores\n",
        "    int<lower=1> L;             // specifies the number of neighborhoods (locations)\n",
        "    \n",
        "     \n",
        "    real<lower=0> price[num];    // prices\n",
        "    int<lower=1> product[num];   // products\n",
        "    int<lower=1> store[num];     // stores\n",
        "    int<lower=1> location[num];  // locations (as defined by neighborhoods) \n",
        "    \n",
        "    // Hyperparameters: hyperparameters for the cauchy and gamma distributions  \n",
        "    \n",
        "    real loc;       //  cauchy prior hyperparameters \n",
        "    real<lower=0> scale; // cauchy prior hyperparameters\n",
        "    real<lower=0> alpha;  // gamma prior hyperparameter for\n",
        "    real<lower=0> beta;   // gamma prior hyperparameter \n",
        "    real<lower=0> s_alpha;  // gamma prior hyperparameter \n",
        "    real<lower=0> s_beta;   // gamma  prior hyperparameter \n",
        "}\n",
        "// Parameters: parameter info about price and product as well the multipliers by store & by location\n",
        "// these are the parameters for which the entire model will be computing posteriors \n",
        "parameters {\n",
        "  \n",
        "    real<lower=0> base_price[P]; // setting this to store the base prices            \n",
        "    real<lower=0> store_m[S];    // setting this to store multipliers\n",
        "    real<lower=0> loc_m[L];     // setting this to store multipliers\n",
        "    real<lower=0> sigma;        // standard deviation for normal\n",
        "}\n",
        "\n",
        "model{\n",
        "    \n",
        "    base_price ~ cauchy(loc, scale);\n",
        "    store_m ~ gamma(alpha,beta);\n",
        "    loc_m ~ gamma(alpha,beta);\n",
        "    sigma ~ gamma(s_alpha,s_beta);\n",
        "    \n",
        "    // calculating the normal likelihood \n",
        "    for (i in 1:num){\n",
        "            price[i] ~ normal(base_price[product[i]]* store_m[store[i]] * loc_m[location[i]], sigma);\n",
        "\n",
        "}\n",
        "}\n",
        "'''\n",
        "stan_model = pystan.StanModel(model_code=stan_code)"
      ],
      "execution_count": 0,
      "outputs": [
        {
          "output_type": "stream",
          "text": [
            "INFO:pystan:COMPILING THE C++ CODE FOR MODEL anon_model_eb236067cf5b6c8b90de0d5f9a09f9b3 NOW.\n"
          ],
          "name": "stderr"
        }
      ]
    },
    {
      "cell_type": "code",
      "metadata": {
        "id": "HPZvUhoMjwyM",
        "colab_type": "code",
        "colab": {}
      },
      "source": [
        "# data \n",
        "data = {'num': len(grocery_data),\n",
        "    'P': grocery_data['Product'].nunique(),\n",
        "    'S': grocery_data['Store'].nunique(),\n",
        "    'L': grocery_data['Neighborhood'].nunique(),\n",
        "    \n",
        "    'price': np.asarray(grocery_data['Price per unit ']), \n",
        "    'product': np.asarray(grocery_data['Product']),\n",
        "    'store': np.asarray(grocery_data['Store']),\n",
        "    'location': np.asarray(grocery_data['Neighborhood']),\n",
        "    \n",
        "    # parameters set w/help from Hana \n",
        "    'loc': 7, \n",
        "    'scale': 7,\n",
        "    'alpha': 3, \n",
        "    'beta': 0.5,\n",
        "    's_alpha': 4,\n",
        "    's_beta': 0.25}\n",
        "\n",
        "results = stan_model.sampling(data=data)\n",
        "samples = results.extract()\n"
      ],
      "execution_count": 0,
      "outputs": []
    },
    {
      "cell_type": "code",
      "metadata": {
        "id": "bKULYwAPupU9",
        "colab_type": "code",
        "outputId": "29524593-f1d9-435c-8222-fc92592900aa",
        "colab": {
          "base_uri": "https://localhost:8080/",
          "height": 651
        }
      },
      "source": [
        "print(results)"
      ],
      "execution_count": 0,
      "outputs": [
        {
          "output_type": "stream",
          "text": [
            "Inference for Stan model: anon_model_eb236067cf5b6c8b90de0d5f9a09f9b3.\n",
            "4 chains, each with iter=2000; warmup=1000; thin=1; \n",
            "post-warmup draws per chain=1000, total post-warmup draws=4000.\n",
            "\n",
            "                 mean se_mean     sd   2.5%    25%    50%    75%  97.5%  n_eff   Rhat\n",
            "base_price[1]    0.61    0.02   0.49   0.17    0.3   0.46   0.74   2.02    599   1.01\n",
            "base_price[2]    0.46    0.02   0.38   0.12   0.23   0.35   0.56   1.55    610   1.01\n",
            "base_price[3]    1.71    0.06   1.37   0.47   0.84    1.3   2.08   5.61    601   1.01\n",
            "base_price[4]    2.14    0.07   1.71   0.58   1.05   1.63   2.59   7.02    605   1.01\n",
            "base_price[5]    0.07  2.3e-3   0.07 6.2e-3   0.03   0.05   0.09   0.26    874    1.0\n",
            "base_price[6]    0.25  8.2e-3   0.21   0.06   0.12   0.19   0.31   0.83    642   1.01\n",
            "base_price[7]     0.3  9.7e-3   0.24   0.08   0.14   0.23   0.36   0.98    614   1.01\n",
            "base_price[8]    0.79    0.03   0.63   0.21   0.39   0.61   0.96    2.6    607   1.01\n",
            "base_price[9]    0.99    0.03   0.79   0.27   0.48   0.75    1.2   3.23    599   1.01\n",
            "base_price[10]   0.28  9.3e-3   0.23   0.07   0.14   0.21   0.35   0.93    608   1.01\n",
            "store_m[1]       1.33    0.03   0.72   0.31   0.77   1.21   1.76   2.98    707    1.0\n",
            "store_m[2]       1.94    0.04   1.06   0.45   1.13   1.76   2.58   4.37    704    1.0\n",
            "store_m[3]       1.29    0.03    0.7    0.3   0.75   1.16   1.71   2.89    692    1.0\n",
            "store_m[4]        1.7    0.04   0.93    0.4   0.99   1.54   2.26   3.81    698    1.0\n",
            "store_m[5]       5.55    0.05   1.99   2.33    4.1   5.31   6.69   10.2   1850    1.0\n",
            "store_m[6]       3.74    0.03   1.34   1.56   2.78   3.58   4.55   6.75   1841    1.0\n",
            "store_m[7]       4.53    0.04   1.62    1.9   3.34   4.35   5.48   8.24   1838    1.0\n",
            "loc_m[1]         4.56    0.04   1.09   2.65   3.78   4.49   5.24   6.97    756    1.0\n",
            "loc_m[2]         3.67    0.03   0.88   2.15   3.06    3.6   4.21   5.63    744    1.0\n",
            "loc_m[3]         3.83    0.03   0.91   2.24    3.2   3.75   4.39   5.85    746    1.0\n",
            "loc_m[4]         3.85    0.03   0.94   2.26    3.2   3.77   4.42   5.95    761    1.0\n",
            "loc_m[5]         1.79    0.04   1.17   0.33   0.95    1.5   2.34   4.65    898    1.0\n",
            "loc_m[6]         4.19    0.04    1.0   2.45   3.49   4.12    4.8   6.41    729    1.0\n",
            "loc_m[7]         4.02    0.04   0.96   2.33   3.34   3.95    4.6   6.14    746    1.0\n",
            "loc_m[8]         3.59    0.03   0.87   2.07   2.98   3.53   4.12   5.56    749    1.0\n",
            "loc_m[9]         4.31    0.04   1.04   2.51   3.59   4.23   4.95   6.62    758    1.0\n",
            "loc_m[10]        4.17    0.04   1.13   2.27   3.34   4.09   4.85   6.75    901    1.0\n",
            "sigma            2.69  7.1e-4   0.04   2.61   2.66   2.69   2.71   2.77   3023    1.0\n",
            "lp__            -3523    0.11   3.87  -3532  -3526  -3523  -3521  -3517   1275    1.0\n",
            "\n",
            "Samples were drawn using NUTS at Sat Nov  9 16:51:03 2019.\n",
            "For each parameter, n_eff is a crude measure of effective sample size,\n",
            "and Rhat is the potential scale reduction factor on split chains (at \n",
            "convergence, Rhat=1).\n"
          ],
          "name": "stdout"
        }
      ]
    }
  ]
}